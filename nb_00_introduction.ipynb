{
 "cells": [
  {
   "cell_type": "markdown",
   "metadata": {},
   "source": [
    "# Imaging with Nilearn\n",
    "\n",
    "Welcome to the Imaging with Nilearn course 2025!\n",
    "\n",
    "This practical session is forked from Dr Tom Maullin's [Nilearn practical repository](https://github.com/TomMaullin/Nilearn2023/) from 2023, with some minor modifications.\n",
    "\n",
    "In the `Nilearn2025` folder you will find this and 2 other notebooks. Each notebook will introduce you to a different type of statistical analysis in fMRI and show you how to analyze fMRI data using the `Nilearn` package. \n",
    "\n",
    "The first notebook will begin by talking you through the basics of the `Nibabel` and `Nilearn` packages. After this, we will cover in detail first-level analyses. The second notebook will show you how to perform a second-level analysis and give further discussion of statistic values and thresholding your images."
   ]
  },
  {
   "cell_type": "markdown",
   "metadata": {},
   "source": [
    "## Table of contents:\n",
    "\n",
    " - [**Notebook 0: Introduction**](./nb_00_introduction.ipynb)\n",
    "   - [Setup](#Setup)\n",
    "   - [Using the notebooks](#Using-the-Notebooks)\n",
    "   - [Contact and Feedback](#Contact-and-Feedback)\n",
    "   - [Acknowledgements](#Acknowledgements)\n",
    "   \n",
    "   \n",
    " - [Notebook 1: FMRI Data and First-Level Analysis](./nb_01_fmri_data_and_first_level_analysis.ipynb)\n",
    " - [Notebook 2: Second-Level Analysis](./nb_02_second_level_analysis.ipynb)"
   ]
  },
  {
   "cell_type": "markdown",
   "metadata": {},
   "source": [
    "## Setup"
   ]
  },
  {
   "cell_type": "markdown",
   "metadata": {},
   "source": [
    "To get started let's install `nibabel` and `nilearn`! Today we will mainly be focusing on `nilearn` but `nibabel` is also going to be useful for working with fMRI imaging files! Here's a brief description of each of these packages:\n",
    "\n",
    " - `Nibabel` provides support for reading and writing to neuroimaging file formats.\n",
    " - `Nilearn` provides tools for statistical learning on neuroimaging data."
   ]
  },
  {
   "cell_type": "code",
   "execution_count": 3,
   "metadata": {},
   "outputs": [
    {
     "name": "stdout",
     "output_type": "stream",
     "text": [
      "Requirement already satisfied: nibabel in /opt/anaconda3/envs/fslenv/bin/fsl/lib/python3.12/site-packages (5.3.2)\n",
      "Requirement already satisfied: numpy>=1.22 in /opt/anaconda3/envs/fslenv/bin/fsl/lib/python3.12/site-packages (from nibabel) (1.26.4)\n",
      "Requirement already satisfied: packaging>=20 in /opt/anaconda3/envs/fslenv/bin/fsl/lib/python3.12/site-packages (from nibabel) (24.1)\n",
      "Requirement already satisfied: typing-extensions>=4.6 in /opt/anaconda3/envs/fslenv/bin/fsl/lib/python3.12/site-packages (from nibabel) (4.12.2)\n",
      "Requirement already satisfied: nilearn in /opt/anaconda3/envs/fslenv/bin/fsl/lib/python3.12/site-packages (0.12.1)\n",
      "Requirement already satisfied: joblib>=1.2.0 in /opt/anaconda3/envs/fslenv/bin/fsl/lib/python3.12/site-packages (from nilearn) (1.4.2)\n",
      "Requirement already satisfied: lxml in /opt/anaconda3/envs/fslenv/bin/fsl/lib/python3.12/site-packages (from nilearn) (5.2.2)\n",
      "Requirement already satisfied: nibabel>=5.2.0 in /opt/anaconda3/envs/fslenv/bin/fsl/lib/python3.12/site-packages (from nilearn) (5.3.2)\n",
      "Requirement already satisfied: numpy>=1.22.4 in /opt/anaconda3/envs/fslenv/bin/fsl/lib/python3.12/site-packages (from nilearn) (1.26.4)\n",
      "Requirement already satisfied: packaging in /opt/anaconda3/envs/fslenv/bin/fsl/lib/python3.12/site-packages (from nilearn) (24.1)\n",
      "Requirement already satisfied: pandas>=2.2.0 in /opt/anaconda3/envs/fslenv/bin/fsl/lib/python3.12/site-packages (from nilearn) (2.2.3)\n",
      "Requirement already satisfied: requests>=2.25.0 in /opt/anaconda3/envs/fslenv/bin/fsl/lib/python3.12/site-packages (from nilearn) (2.32.3)\n",
      "Requirement already satisfied: scikit-learn>=1.4.0 in /opt/anaconda3/envs/fslenv/bin/fsl/lib/python3.12/site-packages (from nilearn) (1.4.2)\n",
      "Requirement already satisfied: scipy>=1.8.0 in /opt/anaconda3/envs/fslenv/bin/fsl/lib/python3.12/site-packages (from nilearn) (1.15.0)\n",
      "Requirement already satisfied: typing-extensions>=4.6 in /opt/anaconda3/envs/fslenv/bin/fsl/lib/python3.12/site-packages (from nibabel>=5.2.0->nilearn) (4.12.2)\n",
      "Requirement already satisfied: python-dateutil>=2.8.2 in /opt/anaconda3/envs/fslenv/bin/fsl/lib/python3.12/site-packages (from pandas>=2.2.0->nilearn) (2.9.0.post0)\n",
      "Requirement already satisfied: pytz>=2020.1 in /opt/anaconda3/envs/fslenv/bin/fsl/lib/python3.12/site-packages (from pandas>=2.2.0->nilearn) (2024.1)\n",
      "Requirement already satisfied: tzdata>=2022.7 in /opt/anaconda3/envs/fslenv/bin/fsl/lib/python3.12/site-packages (from pandas>=2.2.0->nilearn) (2024.2)\n",
      "Requirement already satisfied: charset-normalizer<4,>=2 in /opt/anaconda3/envs/fslenv/bin/fsl/lib/python3.12/site-packages (from requests>=2.25.0->nilearn) (3.3.2)\n",
      "Requirement already satisfied: idna<4,>=2.5 in /opt/anaconda3/envs/fslenv/bin/fsl/lib/python3.12/site-packages (from requests>=2.25.0->nilearn) (3.7)\n",
      "Requirement already satisfied: urllib3<3,>=1.21.1 in /opt/anaconda3/envs/fslenv/bin/fsl/lib/python3.12/site-packages (from requests>=2.25.0->nilearn) (2.2.2)\n",
      "Requirement already satisfied: certifi>=2017.4.17 in /opt/anaconda3/envs/fslenv/bin/fsl/lib/python3.12/site-packages (from requests>=2.25.0->nilearn) (2024.12.14)\n",
      "Requirement already satisfied: threadpoolctl>=2.0.0 in /opt/anaconda3/envs/fslenv/bin/fsl/lib/python3.12/site-packages (from scikit-learn>=1.4.0->nilearn) (3.5.0)\n",
      "Requirement already satisfied: six>=1.5 in /opt/anaconda3/envs/fslenv/bin/fsl/lib/python3.12/site-packages (from python-dateutil>=2.8.2->pandas>=2.2.0->nilearn) (1.17.0)\n"
     ]
    }
   ],
   "source": [
    "!pip install nibabel\n",
    "!pip install nilearn"
   ]
  },
  {
   "cell_type": "markdown",
   "metadata": {},
   "source": [
    "## Using the Notebooks"
   ]
  },
  {
   "cell_type": "markdown",
   "metadata": {},
   "source": [
    "If you were in the `Introduction to Python 2025` course, jupyter notebooks should already feel fairly familiar! However, if you missed the python course for whatever reason here's a brief recap!\n",
    "\n",
    "> Inside each section, you will find text blocks and code blocks. The text blocks will describe and introduce new topics and the code blocks will give interactive demonstrations of how various features work. Once you have clicked inside a code block, you can edit the code and run the block by simply pressing `shift` and `enter`. Try this in the below block!"
   ]
  },
  {
   "cell_type": "code",
   "execution_count": 4,
   "metadata": {},
   "outputs": [
    {
     "name": "stdout",
     "output_type": "stream",
     "text": [
      "Hello World\n"
     ]
    }
   ],
   "source": [
    "print('Hello World')"
   ]
  },
  {
   "cell_type": "markdown",
   "metadata": {},
   "source": [
    "## Contact and Feedback"
   ]
  },
  {
   "cell_type": "markdown",
   "metadata": {},
   "source": [
    "If anyone has any further questions on or requests regarding the course please ask one of the tutors present or feel free to email myself at `yifan.yu@bdi.ox.ac.uk`.\n",
    "\n",
    "If you would like to leave feedback on the course please let us know your thoughts on this [google form here](https://forms.gle/aC743VC1fWwWFG2m9)! (The form is anonymous so please speak freely!)"
   ]
  },
  {
   "cell_type": "markdown",
   "metadata": {},
   "source": [
    "## Acknowledgements"
   ]
  },
  {
   "cell_type": "markdown",
   "metadata": {},
   "source": [
    "This code provided in this notebook borrows very heavily from the worked examples in the official [nilearn documentation](https://nilearn.github.io/stable/auto_examples/00_tutorials). The text of these notebooks is course-specific, however, and any questions regarding the text should be directed to the tutors."
   ]
  }
 ],
 "metadata": {
  "kernelspec": {
   "display_name": "base",
   "language": "python",
   "name": "python3"
  },
  "language_info": {
   "codemirror_mode": {
    "name": "ipython",
    "version": 3
   },
   "file_extension": ".py",
   "mimetype": "text/x-python",
   "name": "python",
   "nbconvert_exporter": "python",
   "pygments_lexer": "ipython3",
   "version": "3.12.3"
  }
 },
 "nbformat": 4,
 "nbformat_minor": 4
}
